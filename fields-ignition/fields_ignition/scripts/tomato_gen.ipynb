{
 "cells": [
  {
   "cell_type": "code",
   "execution_count": 1,
   "metadata": {},
   "outputs": [],
   "source": [
    "import rospy\n",
    "import numpy as np\n",
    "from cookiecutter.main import cookiecutter\n",
    "import collections\n",
    "from pathlib import Path\n",
    "import json\n",
    "import shutil"
   ]
  },
  {
   "cell_type": "code",
   "execution_count": 2,
   "metadata": {},
   "outputs": [
    {
     "name": "stdout",
     "output_type": "stream",
     "text": [
      "param \"~seed\" = \"178\"\n",
      "param \"~world_name\" = \"tomato_field\"\n",
      "param \"~model_name_prefix\" = \"tomato\"\n",
      "param \"~out_path\" = \"/home/nicola/catkin_ws/src/fields-ignition/fields_ignition/scripts/../generated/test01\"\n",
      "param \"~model_template\" = \"/home/nicola/catkin_ws/src/fields-ignition/fields_ignition/scripts/../templates/tomato_model\"\n",
      "param \"~world_template\" = \"/home/nicola/catkin_ws/src/fields-ignition/fields_ignition/scripts/../templates/tomato_world\"\n",
      "param \"~row_count\" = \"3\"\n",
      "param \"~row_length\" = \"6\"\n",
      "param \"~row_dist\" = \"2.0\"\n",
      "param \"~crop_dist\" = \"0.9\"\n"
     ]
    }
   ],
   "source": [
    "def get_param(name, default):\n",
    "    try:\n",
    "        value = rospy.get_param(name, default)\n",
    "    except ConnectionRefusedError:\n",
    "        value = default\n",
    "    print('param \"{}\" = \"{}\"'.format(name, value))\n",
    "    return value\n",
    "\n",
    "SEED = int(get_param('~seed', '178'))\n",
    "WORLD_NAME = get_param('~world_name', 'tomato_field')\n",
    "MODEL_NAME_PREFIX = get_param('~model_name_prefix', 'tomato')\n",
    "OUT_PATH = Path(get_param('~out_path', Path.cwd() / '../generated/test01')).resolve()\n",
    "MODEL_TEMPLATE = Path(get_param('~model_template', Path.cwd() / '../templates/tomato_model')).resolve()\n",
    "WORLD_TEMPLATE = Path(get_param('~world_template', Path.cwd() / '../templates/tomato_world')).resolve()\n",
    "ROW_COUNT = int(get_param('~row_count', '3'))\n",
    "ROW_LENGTH = int(get_param('~row_length', '6'))\n",
    "ROW_DIST = float(get_param('~row_dist', '2.0'))\n",
    "CROP_DIST = float(get_param('~crop_dist', '0.9'))\n",
    "\n",
    "shutil.rmtree(OUT_PATH, ignore_errors=True)\n",
    "np.random.seed(SEED)\n"
   ]
  },
  {
   "cell_type": "code",
   "execution_count": 3,
   "metadata": {},
   "outputs": [],
   "source": [
    "# helper class to build the markers.json\n",
    "class Markers:\n",
    "    markers = []\n",
    "    last_id = 0\n",
    "\n",
    "    @staticmethod\n",
    "    def next_id():\n",
    "        Markers.last_id += 1\n",
    "        return Markers.last_id\n",
    "\n",
    "    @staticmethod\n",
    "    def reset():\n",
    "        Markers.markers = []\n",
    "    \n",
    "    @staticmethod\n",
    "    def add_plant(x, y, z):\n",
    "        id = Markers.next_id()\n",
    "        Markers.markers.append({\n",
    "            'marker_type': 'PLANT',\n",
    "            'id': id,\n",
    "            'translation': [x, y, z]\n",
    "        })\n",
    "        return id\n",
    "    \n",
    "\n",
    "    @staticmethod\n",
    "    def add_fruit(x, y, z, plant_id):\n",
    "        id = Markers.next_id()\n",
    "        Markers.markers.append({\n",
    "            'marker_type': 'FRUIT',\n",
    "            'id': id,\n",
    "            'translation': [x, y, z],\n",
    "            'plant_id': plant_id\n",
    "        })\n",
    "        return id\n",
    "    \n",
    "    @staticmethod\n",
    "    def dumps():\n",
    "        return json.dumps(Markers.markers, indent=4)"
   ]
  },
  {
   "cell_type": "code",
   "execution_count": 4,
   "metadata": {
    "tags": [
     "outputPrepend"
    ]
   },
   "outputs": [
    {
     "name": "stdout",
     "output_type": "stream",
     "text": [
      "Blender 2.82 (sub 7)\n",
      "Read blend: /home/nicola/catkin_ws/src/fields-ignition/fields_ignition/blender/tomato_gen.blend\n",
      "Error: File written by newer Blender binary (290.0), expect loss of data!\n",
      "Traceback (most recent call last):\n",
      "  File \"/home/nicola/catkin_ws/src/fields-ignition/fields_ignition/blender/tomato_gen.py\", line 238, in <module>\n",
      "    gen_plant(write_results=True)\n",
      "  File \"/home/nicola/catkin_ws/src/fields-ignition/fields_ignition/blender/tomato_gen.py\", line 200, in gen_plant\n",
      "    bpy.ops.object.parent_clear(\n",
      "  File \"/usr/share/blender/scripts/modules/bpy/ops.py\", line 199, in __call__\n",
      "    ret = op_call(self.idname_py(), C_dict, kw, C_exec, C_undo)\n",
      "RuntimeError: Operator bpy.ops.object.parent_clear.poll() failed, context is incorrect\n",
      "\n",
      "Blender quit\n"
     ]
    },
    {
     "ename": "FileNotFoundError",
     "evalue": "[Errno 2] No such file or directory: '/home/nicola/catkin_ws/src/fields-ignition/fields_ignition/generated/test01/tomato_field/tomato_0/markers.json'",
     "output_type": "error",
     "traceback": [
      "\u001b[0;31m--------------------------------------------------------------\u001b[0m",
      "\u001b[0;31mFileNotFoundError\u001b[0m            Traceback (most recent call last)",
      "\u001b[0;32m<ipython-input-4-5cd3a3ae68d7>\u001b[0m in \u001b[0;36m<module>\u001b[0;34m\u001b[0m\n\u001b[1;32m     28\u001b[0m \u001b[0;34m\u001b[0m\u001b[0m\n\u001b[1;32m     29\u001b[0m         \u001b[0mplant_id\u001b[0m \u001b[0;34m=\u001b[0m \u001b[0mMarkers\u001b[0m\u001b[0;34m.\u001b[0m\u001b[0madd_plant\u001b[0m\u001b[0;34m(\u001b[0m\u001b[0mx_pos\u001b[0m\u001b[0;34m,\u001b[0m \u001b[0my_pos\u001b[0m\u001b[0;34m,\u001b[0m \u001b[0mz_pos\u001b[0m\u001b[0;34m)\u001b[0m\u001b[0;34m\u001b[0m\u001b[0;34m\u001b[0m\u001b[0m\n\u001b[0;32m---> 30\u001b[0;31m         \u001b[0;32mwith\u001b[0m \u001b[0mopen\u001b[0m\u001b[0;34m(\u001b[0m\u001b[0mdir\u001b[0m \u001b[0;34m/\u001b[0m \u001b[0;34m'markers.json'\u001b[0m\u001b[0;34m)\u001b[0m \u001b[0;32mas\u001b[0m \u001b[0mmarkers_file\u001b[0m\u001b[0;34m:\u001b[0m\u001b[0;34m\u001b[0m\u001b[0;34m\u001b[0m\u001b[0m\n\u001b[0m\u001b[1;32m     31\u001b[0m             \u001b[0mplant_markers\u001b[0m \u001b[0;34m=\u001b[0m \u001b[0mjson\u001b[0m\u001b[0;34m.\u001b[0m\u001b[0mload\u001b[0m\u001b[0;34m(\u001b[0m\u001b[0mmarkers_file\u001b[0m\u001b[0;34m)\u001b[0m\u001b[0;34m\u001b[0m\u001b[0;34m\u001b[0m\u001b[0m\n\u001b[1;32m     32\u001b[0m             \u001b[0;32mfor\u001b[0m \u001b[0mmarker\u001b[0m \u001b[0;32min\u001b[0m \u001b[0mplant_markers\u001b[0m\u001b[0;34m:\u001b[0m\u001b[0;34m\u001b[0m\u001b[0;34m\u001b[0m\u001b[0m\n",
      "\u001b[0;31mFileNotFoundError\u001b[0m: [Errno 2] No such file or directory: '/home/nicola/catkin_ws/src/fields-ignition/fields_ignition/generated/test01/tomato_field/tomato_0/markers.json'"
     ]
    }
   ],
   "source": [
    "models = {'list': []}\n",
    "Markers.reset()\n",
    "\n",
    "for x in range(ROW_COUNT):\n",
    "    for y in range(ROW_LENGTH):\n",
    "        model_name = 'tomato_{}'.format(x * ROW_LENGTH + y)\n",
    "\n",
    "        cookiecutter(str(MODEL_TEMPLATE),\n",
    "             output_dir=str(OUT_PATH), \n",
    "             overwrite_if_exists=True, \n",
    "             no_input=True,\n",
    "             extra_context={'world_name': WORLD_NAME, 'model_name': model_name})\n",
    "\n",
    "        x_pos, y_pos, z_pos = x * ROW_DIST, y * CROP_DIST, 0\n",
    "        models['list'].append({\n",
    "            'model': model_name,\n",
    "            'name': model_name,\n",
    "            'pose': '{} {} 0 0 0 0'.format(x_pos, y_pos)\n",
    "        })\n",
    "        x_pos += np.random.uniform(-0.1, 0.1)\n",
    "        y_pos += np.random.uniform(-0.1, 0.1)\n",
    "        seed = np.random.randint(10000)\n",
    "        dir = (OUT_PATH / WORLD_NAME / model_name).resolve()\n",
    "        dir_blender = (Path.cwd() / '../blender').resolve()\n",
    "        blend = str(dir_blender / 'tomato_gen.blend')\n",
    "        script = str(dir_blender / 'tomato_gen.py')\n",
    "        ! blender $blend --background --python $script -- --model_dir $dir --seed $seed\n",
    "\n",
    "        plant_id = Markers.add_plant(x_pos, y_pos, z_pos)\n",
    "        with open(dir / 'markers.json') as markers_file:\n",
    "            plant_markers = json.load(markers_file)\n",
    "            for marker in plant_markers:\n",
    "                if marker['marker_type'] == 'FRUIT':\n",
    "                    Markers.add_fruit(\n",
    "                        marker['translation'][0] + x_pos,\n",
    "                        marker['translation'][1] + y_pos,\n",
    "                        marker['translation'][2] + z_pos,\n",
    "                        plant_id\n",
    "                    )\n",
    "            \n",
    "\n",
    "cookiecutter(str(WORLD_TEMPLATE),\n",
    "             output_dir=str(OUT_PATH), \n",
    "             overwrite_if_exists=True, \n",
    "             no_input=True,\n",
    "             extra_context={'world_name': WORLD_NAME, 'models': models})\n",
    "\n",
    "with open(OUT_PATH / WORLD_NAME / 'markers.json', 'w') as outfile:\n",
    "    json.dump(Markers.markers, outfile, indent=4, sort_keys=True)"
   ]
  },
  {
   "cell_type": "code",
   "execution_count": null,
   "metadata": {},
   "outputs": [],
   "source": []
  }
 ],
 "metadata": {
  "celltoolbar": "Tags",
  "kernel_info": {
   "name": "python3"
  },
  "kernelspec": {
   "display_name": "Python 3",
   "language": "python",
   "name": "python3"
  },
  "language_info": {
   "codemirror_mode": {
    "name": "ipython",
    "version": 3
   },
   "file_extension": ".py",
   "mimetype": "text/x-python",
   "name": "python",
   "nbconvert_exporter": "python",
   "pygments_lexer": "ipython3",
   "version": "3.8.5"
  },
  "nteract": {
   "version": "0.22.0"
  }
 },
 "nbformat": 4,
 "nbformat_minor": 2
}
